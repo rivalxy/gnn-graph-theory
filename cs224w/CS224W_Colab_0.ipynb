{
  "cells": [
    {
      "cell_type": "markdown",
      "metadata": {
        "colab_type": "text",
        "id": "view-in-github"
      },
      "source": [
        "<a href=\"https://colab.research.google.com/github/rivalxy/gnn-graph-theory/blob/main/css224w/CS224W_Colab_0.ipynb\" target=\"_parent\"><img src=\"https://colab.research.google.com/assets/colab-badge.svg\" alt=\"Open In Colab\"/></a>"
      ]
    },
    {
      "cell_type": "markdown",
      "metadata": {
        "id": "XuXWJLEm2UWS"
      },
      "source": [
        "# **CS224W - Colab 0**\n",
        "\n",
        "Colab 0 **will not be graded**, so you don't need to hand in this notebook. That said, we highly recommend you to run this notebook, so you can get familiar with the basic concepts of graph mining and Graph Neural Networks.\n",
        "\n",
        "In this Colab, we will introduce two packages, [NetworkX](https://networkx.org/documentation/stable/) and [PyTorch Geometric](https://pytorch-geometric.readthedocs.io/en/latest/).\n",
        "\n",
        "For the PyTorch Geometric section, you don't need to understand all the details already. Concepts and implementations of graph neural network will be covered in future lectures and Colabs.\n",
        "\n",
        "Please make a copy before you proceed."
      ]
    },
    {
      "cell_type": "markdown",
      "metadata": {
        "id": "8gzsP50bF6Gb"
      },
      "source": [
        "\n",
        "# NetworkX Tutorial\n",
        "\n",
        "NetworkX is one of the most frequently used Python packages to create, manipulate, and mine graphs.\n",
        "\n",
        "Main parts of this tutorial are adapted from https://colab.research.google.com/github/jdwittenauer/ipython-notebooks/blob/master/notebooks/libraries/NetworkX.ipynb#scrollTo=zA1OO6huHeV6"
      ]
    },
    {
      "cell_type": "markdown",
      "metadata": {
        "id": "Nwwq0nSdmsOL"
      },
      "source": [
        "## Setup"
      ]
    },
    {
      "cell_type": "code",
      "execution_count": 1,
      "metadata": {
        "id": "QeqN7MHvH1OA"
      },
      "outputs": [],
      "source": [
        "# Import the NetworkX package\n",
        "import networkx as nx"
      ]
    },
    {
      "cell_type": "markdown",
      "metadata": {
        "id": "MCIeGAfLfAMK"
      },
      "source": [
        "## Graph\n",
        "NetworkX provides several classes to store different types of graphs, such as directed and undirected graph. It also provides classes to create multigraphs (both directed and undirected).\n",
        "\n",
        "For more information, please refer to [NetworkX graph types](https://networkx.org/documentation/stable/reference/classes/index.html)."
      ]
    },
    {
      "cell_type": "code",
      "execution_count": 2,
      "metadata": {
        "colab": {
          "base_uri": "https://localhost:8080/"
        },
        "id": "qSI_n6P-e0PW",
        "outputId": "15d5ec95-87cf-44a4-a8ea-9e4179b1ad66"
      },
      "outputs": [
        {
          "name": "stdout",
          "output_type": "stream",
          "text": [
            "False\n",
            "True\n",
            "{'Name': 'Bar'}\n"
          ]
        }
      ],
      "source": [
        "# Create an undirected graph G\n",
        "G = nx.Graph()\n",
        "print(G.is_directed())\n",
        "\n",
        "# Create a directed graph H\n",
        "H = nx.DiGraph()\n",
        "print(H.is_directed())\n",
        "\n",
        "# Add graph level attribute\n",
        "G.graph[\"Name\"] = \"Bar\"\n",
        "print(G.graph)"
      ]
    },
    {
      "cell_type": "markdown",
      "metadata": {
        "id": "x0pLs0-Ka9j8"
      },
      "source": [
        "## Node\n",
        "\n",
        "Nodes (with attributes) can be easily added to NetworkX graphs."
      ]
    },
    {
      "cell_type": "code",
      "execution_count": 3,
      "metadata": {
        "colab": {
          "base_uri": "https://localhost:8080/"
        },
        "id": "jQ8ApAL5H1GB",
        "outputId": "7520f331-c9fe-4ea5-c6e8-66149ec23d81"
      },
      "outputs": [
        {
          "name": "stdout",
          "output_type": "stream",
          "text": [
            "Node 0 has the attributes {'feature': 5, 'label': 0}\n"
          ]
        }
      ],
      "source": [
        "# Add one node with node level attributes\n",
        "G.add_node(0, feature=5, label=0)\n",
        "\n",
        "# Get attributes of the node 0\n",
        "node_0_attr = G.nodes[0]\n",
        "print(\"Node 0 has the attributes {}\".format(node_0_attr))"
      ]
    },
    {
      "cell_type": "code",
      "execution_count": 4,
      "metadata": {
        "colab": {
          "base_uri": "https://localhost:8080/"
        },
        "id": "btOdMYqJaKia",
        "outputId": "eca2c453-bc03-45f6-9a47-bf2a798c2458"
      },
      "outputs": [
        {
          "name": "stdout",
          "output_type": "stream",
          "text": [
            "(0, {'feature': 5, 'label': 0})\n",
            "(1, {'feature': 1, 'label': 1})\n",
            "(2, {'feature': 2, 'label': 2})\n",
            "G has 3 nodes\n"
          ]
        }
      ],
      "source": [
        "# Add multiple nodes with attributes\n",
        "G.add_nodes_from([\n",
        "  (1, {\"feature\": 1, \"label\": 1}),\n",
        "  (2, {\"feature\": 2, \"label\": 2})\n",
        "]) #(node, attrdict)\n",
        "\n",
        "# Loop through all the nodes\n",
        "# Set data=True will return node attributes\n",
        "for node in G.nodes(data=True):\n",
        "  print(node)\n",
        "\n",
        "# Get number of nodes\n",
        "num_nodes = G.number_of_nodes()\n",
        "print(\"G has {} nodes\".format(num_nodes))"
      ]
    },
    {
      "cell_type": "markdown",
      "metadata": {
        "id": "0AdoaZPgbRis"
      },
      "source": [
        "## Edge\n",
        "\n",
        "Similar to nodes, edges (with attributes) can also be easily added to NetworkX graphs."
      ]
    },
    {
      "cell_type": "code",
      "execution_count": 5,
      "metadata": {
        "colab": {
          "base_uri": "https://localhost:8080/"
        },
        "id": "0szH5F6EH079",
        "outputId": "19fae91b-d423-4787-8c3b-ff8bccb1d339"
      },
      "outputs": [
        {
          "name": "stdout",
          "output_type": "stream",
          "text": [
            "Edge (0, 1) has the attributes {'weight': 0.5}\n"
          ]
        }
      ],
      "source": [
        "# Add one edge with edge weight 0.5\n",
        "G.add_edge(0, 1, weight=0.5)\n",
        "\n",
        "# Get attributes of the edge (0, 1)\n",
        "edge_0_1_attr = G.edges[(0, 1)]\n",
        "print(\"Edge (0, 1) has the attributes {}\".format(edge_0_1_attr))"
      ]
    },
    {
      "cell_type": "code",
      "execution_count": 6,
      "metadata": {
        "colab": {
          "base_uri": "https://localhost:8080/"
        },
        "id": "QRTmi4EUaf_I",
        "outputId": "8f3badec-a569-4d8e-ce5d-7f2c4443082f"
      },
      "outputs": [
        {
          "name": "stdout",
          "output_type": "stream",
          "text": [
            "(0, 1)\n",
            "(0, 2)\n",
            "(1, 2)\n",
            "G has 3 edges\n"
          ]
        }
      ],
      "source": [
        "# Add multiple edges with edge weights\n",
        "G.add_edges_from([\n",
        "  (1, 2, {\"weight\": 0.3}),\n",
        "  (2, 0, {\"weight\": 0.1})\n",
        "])\n",
        "\n",
        "# Loop through all the edges\n",
        "# Here there is no data=True, so only the edge will be returned\n",
        "for edge in G.edges():\n",
        "  print(edge)\n",
        "\n",
        "# Get number of edges\n",
        "num_edges = G.number_of_edges()\n",
        "print(\"G has {} edges\".format(num_edges))"
      ]
    },
    {
      "cell_type": "markdown",
      "metadata": {
        "id": "9u1Utjn4bc7k"
      },
      "source": [
        "## Visualization"
      ]
    },
    {
      "cell_type": "code",
      "execution_count": 7,
      "metadata": {
        "colab": {
          "base_uri": "https://localhost:8080/",
          "height": 319
        },
        "id": "lykPzFOEahuP",
        "outputId": "65ada32f-94ea-4791-ad8d-4c28370aee6f"
      },
      "outputs": [
        {
          "data": {
            "image/png": "[encoded data removed]",
            "text/plain": [
              "<Figure size 640x480 with 1 Axes>"
            ]
          },
          "metadata": {},
          "output_type": "display_data"
        }
      ],
      "source": [
        "# Draw the graph\n",
        "nx.draw(G, with_labels = True)"
      ]
    },
    {
      "cell_type": "markdown",
      "metadata": {
        "id": "_Q6YTP2FDbOS"
      },
      "source": [
        "## Node Degree and Neighbor"
      ]
    },
    {
      "cell_type": "code",
      "execution_count": null,
      "metadata": {
        "colab": {
          "base_uri": "https://localhost:8080/"
        },
        "id": "GFA3B6Z_DE3q",
        "outputId": "ccd0024b-f84c-4120-bdaf-b3e2ee5571f1"
      },
      "outputs": [
        {
          "name": "stdout",
          "output_type": "stream",
          "text": [
            "Node 1 has degree 2\n",
            "Node 1 has neighbor 0\n",
            "Node 1 has neighbor 2\n"
          ]
        }
      ],
      "source": [
        "node_id = 1\n",
        "\n",
        "# Degree of node 1\n",
        "print(\"Node {} has degree {}\".format(node_id, G.degree(node_id))) # type: ignore\n",
        "\n",
        "# Get neighbor of node 1\n",
        "for neighbor in G.neighbors(node_id):\n",
        "  print(\"Node {} has neighbor {}\".format(node_id, neighbor))"
      ]
    },
    {
      "cell_type": "markdown",
      "metadata": {
        "id": "4gVRVckZeSdA"
      },
      "source": [
        "## Other Functionalities\n",
        "\n",
        "NetworkX also provides plenty of useful methods to study graphs.\n",
        "\n",
        "Here is an example to get [PageRank](https://networkx.org/documentation/stable/reference/algorithms/generated/networkx.algorithms.link_analysis.pagerank_alg.pagerank.html#networkx.algorithms.link_analysis.pagerank_alg.pagerank) of nodes (see [last year's slides on PageRank](http://snap.stanford.edu/class/cs224w-2020/slides/04-pagerank.pdf) for more information!)."
      ]
    },
    {
      "cell_type": "code",
      "execution_count": 10,
      "metadata": {
        "colab": {
          "base_uri": "https://localhost:8080/",
          "height": 387
        },
        "id": "_gZfQ82Wiuvv",
        "outputId": "51749a28-771b-4b73-e12e-823f901d5115"
      },
      "outputs": [
        {
          "data": {
            "text/plain": [
              "{0: 0.17857162031103999,\n",
              " 1: 0.32142837968896,\n",
              " 2: 0.32142837968896,\n",
              " 3: 0.17857162031103999}"
            ]
          },
          "execution_count": 10,
          "metadata": {},
          "output_type": "execute_result"
        },
        {
          "data": {
            "image/png": "[encoded data removed]",
            "text/plain": [
              "<Figure size 640x480 with 1 Axes>"
            ]
          },
          "metadata": {},
          "output_type": "display_data"
        }
      ],
      "source": [
        "num_nodes = 4\n",
        "# Create a new path like graph and change it to a directed graph\n",
        "G = nx.DiGraph(nx.path_graph(num_nodes))\n",
        "nx.draw(G, with_labels = True)\n",
        "\n",
        "# Get the PageRank\n",
        "pr = nx.pagerank(G, alpha=0.8)\n",
        "pr"
      ]
    },
    {
      "cell_type": "markdown",
      "metadata": {
        "id": "RrIFCJnlvGkg"
      },
      "source": [
        "## Documentation"
      ]
    },
    {
      "cell_type": "markdown",
      "metadata": {
        "id": "_7PBwhIKu3et"
      },
      "source": [
        "You can explore more NetworkX functions through its [documentation](https://networkx.org/documentation/stable/)."
      ]
    },
    {
      "cell_type": "markdown",
      "metadata": {
        "id": "MDcCjrW3JWzG"
      },
      "source": [
        "# PyTorch Geometric Tutorial\n",
        "\n",
        "PyTorch Geometric (PyG) is an extension library for PyTorch. It provides useful primitives to develop Graph Deep Learning models, including various graph neural network layers and a large number of benchmark datasets.\n",
        "\n",
        "Don't worry if you don't understand some concepts such as `GCNConv` -- we will cover all of them in the future lectures :)\n",
        "\n",
        "This tutorial is adapted from https://colab.research.google.com/drive/1h3-vJGRVloF5zStxL5I0rSy4ZUPNsjy8?usp=sharing#scrollTo=ci-LpZWhRJoI by [Matthias Fey](https://rusty1s.github.io/#/)\n"
      ]
    },
    {
      "cell_type": "code",
      "execution_count": 11,
      "metadata": {
        "colab": {
          "base_uri": "https://localhost:8080/"
        },
        "id": "WU7NCZtQ6msa",
        "outputId": "2ce87273-d5cf-429d-a69d-f70245c6e4dd"
      },
      "outputs": [
        {
          "name": "stdout",
          "output_type": "stream",
          "text": [
            "PyTorch has version 2.4.1\n"
          ]
        }
      ],
      "source": [
        "import torch\n",
        "print(\"PyTorch has version {}\".format(torch.__version__))"
      ]
    },
    {
      "cell_type": "markdown",
      "metadata": {
        "id": "n7gMjMCT677n"
      },
      "source": [
        "## Installing dependencies\n",
        "\n",
        "The installation of PyG on Colab can be a little bit tricky. Execute the cell below -- in case of issues, more information can be found on the [PyG's installation page](https://pytorch-geometric.readthedocs.io/en/latest/notes/installation.html).\n",
        "\n",
        "_Note: This cell might take a while (up to ~10 minutes) to run_"
      ]
    },
    {
      "cell_type": "code",
      "execution_count": null,
      "metadata": {
        "colab": {
          "base_uri": "https://localhost:8080/"
        },
        "id": "tRNEKu-R66Cw",
        "outputId": "8a2ab4bd-b3fd-4334-dd70-96ffe165b32a"
      },
      "outputs": [],
      "source": [
        "# Install torch geometric\n",
        "!pip install -q torch-scatter -f https://pytorch-geometric.com/whl/torch-1.7.0+cu101.html\n",
        "!pip install -q torch-sparse -f https://pytorch-geometric.com/whl/torch-1.7.0+cu101.html\n",
        "!pip install -q torch-geometric"
      ]
    },
    {
      "cell_type": "markdown",
      "metadata": {
        "id": "HLxnaKsN8GVf"
      },
      "source": [
        "## Visualization"
      ]
    },
    {
      "cell_type": "code",
      "execution_count": 12,
      "metadata": {
        "id": "qywlcjyr8USw"
      },
      "outputs": [],
      "source": [
        "# Helper function for visualization.\n",
        "%matplotlib inline\n",
        "import torch\n",
        "import networkx as nx\n",
        "import matplotlib.pyplot as plt\n",
        "\n",
        "# Visualization function for NX graph or PyTorch tensor\n",
        "def visualize(h, color, epoch=None, loss=None, accuracy=None):\n",
        "    plt.figure(figsize=(7,7))\n",
        "    plt.xticks([])\n",
        "    plt.yticks([])\n",
        "\n",
        "    if torch.is_tensor(h):\n",
        "        h = h.detach().cpu().numpy()\n",
        "        plt.scatter(h[:, 0], h[:, 1], s=140, c=color, cmap=\"Set2\")\n",
        "        if epoch is not None and loss is not None and accuracy['train'] is not None and accuracy['val'] is not None:\n",
        "            plt.xlabel((f'Epoch: {epoch}, Loss: {loss.item():.4f} \\n'\n",
        "                       f'Training Accuracy: {accuracy[\"train\"]*100:.2f}% \\n'\n",
        "                       f' Validation Accuracy: {accuracy[\"val\"]*100:.2f}%'),\n",
        "                       fontsize=16)\n",
        "    else:\n",
        "        nx.draw_networkx(G, pos=nx.spring_layout(G, seed=42), with_labels=False,\n",
        "                         node_color=color, cmap=\"Set2\")\n",
        "    plt.show()"
      ]
    },
    {
      "cell_type": "markdown",
      "metadata": {
        "id": "bbny-iTO7NQN"
      },
      "source": [
        "## Introduction\n",
        "\n",
        "Recently, deep learning on graphs has emerged to one of the hottest research fields in the deep learning community.\n",
        "Here, **Graph Neural Networks (GNNs)** aim to generalize classical deep learning concepts to irregular structured data (in contrast to images or texts) and to enable neural networks to reason about objects and their relations.\n",
        "\n",
        "This tutorial will introduce you to some fundamental concepts regarding deep learning on graphs via Graph Neural Networks based on the **[PyTorch Geometric (PyG) library](https://github.com/rusty1s/pytorch_geometric)**.\n",
        "PyTorch Geometric is an extension library to the popular deep learning framework [PyTorch](https://pytorch.org/), and consists of various methods and utilities to ease the implementation of Graph Neural Networks.\n",
        "\n",
        "Following [Kipf et al. (2017)](https://arxiv.org/abs/1609.02907), let's dive into the world of GNNs by looking at a simple graph-structured example, the well-known [**Zachary's karate club network**](https://en.wikipedia.org/wiki/Zachary%27s_karate_club). This graph describes a social network of 34 members of a karate club and documents links between members who interacted outside the club. Here, we are interested in detecting communities that arise from the member's interaction."
      ]
    },
    {
      "cell_type": "markdown",
      "metadata": {
        "id": "g3uPffzbyqn9"
      },
      "source": [
        "## Dataset\n",
        "\n",
        "PyTorch Geometric provides an easy access to the dataset via the [`torch_geometric.datasets`](https://pytorch-geometric.readthedocs.io/en/latest/modules/datasets.html#torch_geometric.datasets) subpackage:"
      ]
    },
    {
      "cell_type": "code",
      "execution_count": 13,
      "metadata": {
        "colab": {
          "base_uri": "https://localhost:8080/"
        },
        "id": "YrpL9CtS7nx2",
        "outputId": "b7620c3f-e2ac-47d5-ef6f-586cd67f473c"
      },
      "outputs": [
        {
          "name": "stderr",
          "output_type": "stream",
          "text": [
            "/Users/rival/opt/anaconda3/envs/GNN/lib/python3.11/site-packages/torch_geometric/typing.py:124: UserWarning: An issue occurred while importing 'torch-sparse'. Disabling its usage. Stacktrace: dlopen(/Users/rival/opt/anaconda3/envs/GNN/lib/python3.11/site-packages/torch_sparse/_convert_cpu.so, 0x0006): Symbol not found: __ZN2at8internal15invoke_parallelExxxRKNSt3__18functionIFvxxEEE\n",
            "  Referenced from: <6BA5D8E4-07CD-3FC2-9041-55DC4AFCE255> /Users/rival/opt/anaconda3/envs/GNN/lib/python3.11/site-packages/torch_sparse/_convert_cpu.so\n",
            "  Expected in:     <81DA8FD4-D8A6-387C-B4EF-885087A65180> /Users/rival/opt/anaconda3/envs/GNN/lib/libtorch_cpu.dylib\n",
            "  warnings.warn(f\"An issue occurred while importing 'torch-sparse'. \"\n"
          ]
        },
        {
          "name": "stdout",
          "output_type": "stream",
          "text": [
            "Dataset: KarateClub():\n",
            "======================\n",
            "Number of graphs: 1\n",
            "Number of features: 34\n",
            "Number of classes: 4\n"
          ]
        }
      ],
      "source": [
        "from torch_geometric.datasets import KarateClub\n",
        "\n",
        "dataset = KarateClub()\n",
        "print(f'Dataset: {dataset}:')\n",
        "print('======================')\n",
        "print(f'Number of graphs: {len(dataset)}')\n",
        "print(f'Number of features: {dataset.num_features}')\n",
        "print(f'Number of classes: {dataset.num_classes}')"
      ]
    },
    {
      "cell_type": "markdown",
      "metadata": {
        "id": "lCeRGa2q7sdl"
      },
      "source": [
        "After initializing the [`KarateClub`](https://pytorch-geometric.readthedocs.io/en/latest/modules/datasets.html#torch_geometric.datasets.KarateClub) dataset, we first can inspect some of its properties.\n",
        "For example, we can see that this dataset holds exactly **one graph**, and that each node in this dataset is assigned a **34-dimensional feature vector** (which uniquely describes the members of the karate club).\n",
        "Furthermore, the graph holds exactly **4 classes**, which represent the community each node belongs to.\n",
        "\n",
        "Let's now look at the underlying graph in more detail:"
      ]
    },
    {
      "cell_type": "code",
      "execution_count": 14,
      "metadata": {
        "colab": {
          "base_uri": "https://localhost:8080/"
        },
        "id": "sTLapYhP7uCn",
        "outputId": "ecf7ca2e-02d7-4d92-dfc3-b5baaa206182"
      },
      "outputs": [
        {
          "name": "stdout",
          "output_type": "stream",
          "text": [
            "Data(x=[34, 34], edge_index=[2, 156], y=[34], train_mask=[34])\n",
            "==============================================================\n",
            "Number of nodes: 34\n",
            "Number of edges: 156\n",
            "Average node degree: 9.18\n",
            "Number of training nodes: 4\n",
            "Training node label rate: 0.12\n",
            "Contains isolated nodes: False\n",
            "Contains self-loops: False\n",
            "Is undirected: True\n"
          ]
        }
      ],
      "source": [
        "data = dataset[0]  # Get the first graph object.\n",
        "\n",
        "print(data)\n",
        "print('==============================================================')\n",
        "\n",
        "# Gather some statistics about the graph.\n",
        "print(f'Number of nodes: {data.num_nodes}')\n",
        "print(f'Number of edges: {data.num_edges}')\n",
        "print(f'Average node degree: {(2*data.num_edges) / data.num_nodes:.2f}')\n",
        "print(f'Number of training nodes: {data.train_mask.sum()}')\n",
        "print(f'Training node label rate: {int(data.train_mask.sum()) / data.num_nodes:.2f}')\n",
        "print(f'Contains isolated nodes: {data.has_isolated_nodes()}')\n",
        "print(f'Contains self-loops: {data.has_self_loops()}')\n",
        "print(f'Is undirected: {data.is_undirected()}')"
      ]
    },
    {
      "cell_type": "code",
      "execution_count": 15,
      "metadata": {
        "colab": {
          "base_uri": "https://localhost:8080/"
        },
        "id": "tu7b7G6Ai3D1",
        "outputId": "8816fc06-dd1e-4555-8fdf-44ae34e87e7d"
      },
      "outputs": [
        {
          "data": {
            "text/plain": [
              "tensor([[ 0,  1],\n",
              "        [ 0,  2],\n",
              "        [ 0,  3],\n",
              "        [ 0,  4],\n",
              "        [ 0,  5],\n",
              "        [ 0,  6],\n",
              "        [ 0,  7],\n",
              "        [ 0,  8],\n",
              "        [ 0, 10],\n",
              "        [ 0, 11],\n",
              "        [ 0, 12],\n",
              "        [ 0, 13],\n",
              "        [ 0, 17],\n",
              "        [ 0, 19],\n",
              "        [ 0, 21],\n",
              "        [ 0, 31],\n",
              "        [ 1,  0],\n",
              "        [ 1,  2],\n",
              "        [ 1,  3],\n",
              "        [ 1,  7],\n",
              "        [ 1, 13],\n",
              "        [ 1, 17],\n",
              "        [ 1, 19],\n",
              "        [ 1, 21],\n",
              "        [ 1, 30],\n",
              "        [ 2,  0],\n",
              "        [ 2,  1],\n",
              "        [ 2,  3],\n",
              "        [ 2,  7],\n",
              "        [ 2,  8],\n",
              "        [ 2,  9],\n",
              "        [ 2, 13],\n",
              "        [ 2, 27],\n",
              "        [ 2, 28],\n",
              "        [ 2, 32],\n",
              "        [ 3,  0],\n",
              "        [ 3,  1],\n",
              "        [ 3,  2],\n",
              "        [ 3,  7],\n",
              "        [ 3, 12],\n",
              "        [ 3, 13],\n",
              "        [ 4,  0],\n",
              "        [ 4,  6],\n",
              "        [ 4, 10],\n",
              "        [ 5,  0],\n",
              "        [ 5,  6],\n",
              "        [ 5, 10],\n",
              "        [ 5, 16],\n",
              "        [ 6,  0],\n",
              "        [ 6,  4],\n",
              "        [ 6,  5],\n",
              "        [ 6, 16],\n",
              "        [ 7,  0],\n",
              "        [ 7,  1],\n",
              "        [ 7,  2],\n",
              "        [ 7,  3],\n",
              "        [ 8,  0],\n",
              "        [ 8,  2],\n",
              "        [ 8, 30],\n",
              "        [ 8, 32],\n",
              "        [ 8, 33],\n",
              "        [ 9,  2],\n",
              "        [ 9, 33],\n",
              "        [10,  0],\n",
              "        [10,  4],\n",
              "        [10,  5],\n",
              "        [11,  0],\n",
              "        [12,  0],\n",
              "        [12,  3],\n",
              "        [13,  0],\n",
              "        [13,  1],\n",
              "        [13,  2],\n",
              "        [13,  3],\n",
              "        [13, 33],\n",
              "        [14, 32],\n",
              "        [14, 33],\n",
              "        [15, 32],\n",
              "        [15, 33],\n",
              "        [16,  5],\n",
              "        [16,  6],\n",
              "        [17,  0],\n",
              "        [17,  1],\n",
              "        [18, 32],\n",
              "        [18, 33],\n",
              "        [19,  0],\n",
              "        [19,  1],\n",
              "        [19, 33],\n",
              "        [20, 32],\n",
              "        [20, 33],\n",
              "        [21,  0],\n",
              "        [21,  1],\n",
              "        [22, 32],\n",
              "        [22, 33],\n",
              "        [23, 25],\n",
              "        [23, 27],\n",
              "        [23, 29],\n",
              "        [23, 32],\n",
              "        [23, 33],\n",
              "        [24, 25],\n",
              "        [24, 27],\n",
              "        [24, 31],\n",
              "        [25, 23],\n",
              "        [25, 24],\n",
              "        [25, 31],\n",
              "        [26, 29],\n",
              "        [26, 33],\n",
              "        [27,  2],\n",
              "        [27, 23],\n",
              "        [27, 24],\n",
              "        [27, 33],\n",
              "        [28,  2],\n",
              "        [28, 31],\n",
              "        [28, 33],\n",
              "        [29, 23],\n",
              "        [29, 26],\n",
              "        [29, 32],\n",
              "        [29, 33],\n",
              "        [30,  1],\n",
              "        [30,  8],\n",
              "        [30, 32],\n",
              "        [30, 33],\n",
              "        [31,  0],\n",
              "        [31, 24],\n",
              "        [31, 25],\n",
              "        [31, 28],\n",
              "        [31, 32],\n",
              "        [31, 33],\n",
              "        [32,  2],\n",
              "        [32,  8],\n",
              "        [32, 14],\n",
              "        [32, 15],\n",
              "        [32, 18],\n",
              "        [32, 20],\n",
              "        [32, 22],\n",
              "        [32, 23],\n",
              "        [32, 29],\n",
              "        [32, 30],\n",
              "        [32, 31],\n",
              "        [32, 33],\n",
              "        [33,  8],\n",
              "        [33,  9],\n",
              "        [33, 13],\n",
              "        [33, 14],\n",
              "        [33, 15],\n",
              "        [33, 18],\n",
              "        [33, 19],\n",
              "        [33, 20],\n",
              "        [33, 22],\n",
              "        [33, 23],\n",
              "        [33, 26],\n",
              "        [33, 27],\n",
              "        [33, 28],\n",
              "        [33, 29],\n",
              "        [33, 30],\n",
              "        [33, 31],\n",
              "        [33, 32]])"
            ]
          },
          "execution_count": 15,
          "metadata": {},
          "output_type": "execute_result"
        }
      ],
      "source": [
        "data.edge_index.T"
      ]
    },
    {
      "cell_type": "markdown",
      "metadata": {
        "id": "lIzbIoc-y8J4"
      },
      "source": [
        "## Data"
      ]
    },
    {
      "cell_type": "markdown",
      "metadata": {
        "id": "I5zhmKIH72Rf"
      },
      "source": [
        "Each graph in PyTorch Geometric is represented by a single [`Data`](https://pytorch-geometric.readthedocs.io/en/latest/modules/data.html#torch_geometric.data.Data) object, which holds all the information to describe its graph representation.\n",
        "We can print the data object anytime via `print(data)` to receive a short summary about its attributes and their shapes:\n",
        "```\n",
        "Data(edge_index=[2, 156], x=[34, 34], y=[34], train_mask=[34])\n",
        "```\n",
        "We can see that this `data` object holds 4 attributes:\n",
        "(1) The `edge_index` property holds the information about the **graph connectivity**, *i.e.*, a tuple of source and destination node indices for each edge.\n",
        "PyG further refers to (2) **node features** as `x` (each of the 34 nodes is assigned a 34-dim feature vector), and to (3) **node labels** as `y` (each node is assigned to exactly one class).\n",
        "(4) There also exists an additional attribute called `train_mask`, which describes for which nodes we already know their community assigments.\n",
        "In total, we are only aware of the ground-truth labels of 4 nodes (one for each community), and the task is to infer the community assignment for the remaining nodes.\n",
        "\n",
        "The `data` object also provides some **utility functions** to infer some basic properties of the underlying graph.\n",
        "For example, we can easily infer whether there exists isolated nodes in the graph (*i.e.* there exists no edge to any node), whether the graph contains self-loops (*i.e.*, $(v, v) \\in \\mathcal{E}$), or whether the graph is undirected (*i.e.*, for each edge $(v, w) \\in \\mathcal{E}$ there also exists the edge $(w, v) \\in \\mathcal{E}$)."
      ]
    },
    {
      "cell_type": "code",
      "execution_count": 16,
      "metadata": {
        "colab": {
          "base_uri": "https://localhost:8080/"
        },
        "id": "2WBDduWreQNQ",
        "outputId": "a34b8d44-d09c-4cdb-fa8e-e5cf0ba3d69d"
      },
      "outputs": [
        {
          "name": "stdout",
          "output_type": "stream",
          "text": [
            "Data(x=[34, 34], edge_index=[2, 156], y=[34], train_mask=[34])\n"
          ]
        }
      ],
      "source": [
        "print(data)"
      ]
    },
    {
      "cell_type": "markdown",
      "metadata": {
        "id": "nLLsT0ROzffp"
      },
      "source": [
        "## Edge Index"
      ]
    },
    {
      "cell_type": "markdown",
      "metadata": {
        "id": "svWvpFyZeXfm"
      },
      "source": [
        "Next we'll print the `edge_index` of our graph:"
      ]
    },
    {
      "cell_type": "code",
      "execution_count": 17,
      "metadata": {
        "colab": {
          "base_uri": "https://localhost:8080/",
          "height": 300
        },
        "id": "iFA6Xi4O79r0",
        "outputId": "8bb1430f-1007-4bea-c49d-3acb6b15dcdd"
      },
      "outputs": [
        {
          "data": {
            "application/javascript": "google.colab.output.setIframeHeight(0, true, {maxHeight: 300})",
            "text/plain": [
              "<IPython.core.display.Javascript object>"
            ]
          },
          "metadata": {},
          "output_type": "display_data"
        },
        {
          "name": "stdout",
          "output_type": "stream",
          "text": [
            "tensor([[ 0,  1],\n",
            "        [ 0,  2],\n",
            "        [ 0,  3],\n",
            "        [ 0,  4],\n",
            "        [ 0,  5],\n",
            "        [ 0,  6],\n",
            "        [ 0,  7],\n",
            "        [ 0,  8],\n",
            "        [ 0, 10],\n",
            "        [ 0, 11],\n",
            "        [ 0, 12],\n",
            "        [ 0, 13],\n",
            "        [ 0, 17],\n",
            "        [ 0, 19],\n",
            "        [ 0, 21],\n",
            "        [ 0, 31],\n",
            "        [ 1,  0],\n",
            "        [ 1,  2],\n",
            "        [ 1,  3],\n",
            "        [ 1,  7],\n",
            "        [ 1, 13],\n",
            "        [ 1, 17],\n",
            "        [ 1, 19],\n",
            "        [ 1, 21],\n",
            "        [ 1, 30],\n",
            "        [ 2,  0],\n",
            "        [ 2,  1],\n",
            "        [ 2,  3],\n",
            "        [ 2,  7],\n",
            "        [ 2,  8],\n",
            "        [ 2,  9],\n",
            "        [ 2, 13],\n",
            "        [ 2, 27],\n",
            "        [ 2, 28],\n",
            "        [ 2, 32],\n",
            "        [ 3,  0],\n",
            "        [ 3,  1],\n",
            "        [ 3,  2],\n",
            "        [ 3,  7],\n",
            "        [ 3, 12],\n",
            "        [ 3, 13],\n",
            "        [ 4,  0],\n",
            "        [ 4,  6],\n",
            "        [ 4, 10],\n",
            "        [ 5,  0],\n",
            "        [ 5,  6],\n",
            "        [ 5, 10],\n",
            "        [ 5, 16],\n",
            "        [ 6,  0],\n",
            "        [ 6,  4],\n",
            "        [ 6,  5],\n",
            "        [ 6, 16],\n",
            "        [ 7,  0],\n",
            "        [ 7,  1],\n",
            "        [ 7,  2],\n",
            "        [ 7,  3],\n",
            "        [ 8,  0],\n",
            "        [ 8,  2],\n",
            "        [ 8, 30],\n",
            "        [ 8, 32],\n",
            "        [ 8, 33],\n",
            "        [ 9,  2],\n",
            "        [ 9, 33],\n",
            "        [10,  0],\n",
            "        [10,  4],\n",
            "        [10,  5],\n",
            "        [11,  0],\n",
            "        [12,  0],\n",
            "        [12,  3],\n",
            "        [13,  0],\n",
            "        [13,  1],\n",
            "        [13,  2],\n",
            "        [13,  3],\n",
            "        [13, 33],\n",
            "        [14, 32],\n",
            "        [14, 33],\n",
            "        [15, 32],\n",
            "        [15, 33],\n",
            "        [16,  5],\n",
            "        [16,  6],\n",
            "        [17,  0],\n",
            "        [17,  1],\n",
            "        [18, 32],\n",
            "        [18, 33],\n",
            "        [19,  0],\n",
            "        [19,  1],\n",
            "        [19, 33],\n",
            "        [20, 32],\n",
            "        [20, 33],\n",
            "        [21,  0],\n",
            "        [21,  1],\n",
            "        [22, 32],\n",
            "        [22, 33],\n",
            "        [23, 25],\n",
            "        [23, 27],\n",
            "        [23, 29],\n",
            "        [23, 32],\n",
            "        [23, 33],\n",
            "        [24, 25],\n",
            "        [24, 27],\n",
            "        [24, 31],\n",
            "        [25, 23],\n",
            "        [25, 24],\n",
            "        [25, 31],\n",
            "        [26, 29],\n",
            "        [26, 33],\n",
            "        [27,  2],\n",
            "        [27, 23],\n",
            "        [27, 24],\n",
            "        [27, 33],\n",
            "        [28,  2],\n",
            "        [28, 31],\n",
            "        [28, 33],\n",
            "        [29, 23],\n",
            "        [29, 26],\n",
            "        [29, 32],\n",
            "        [29, 33],\n",
            "        [30,  1],\n",
            "        [30,  8],\n",
            "        [30, 32],\n",
            "        [30, 33],\n",
            "        [31,  0],\n",
            "        [31, 24],\n",
            "        [31, 25],\n",
            "        [31, 28],\n",
            "        [31, 32],\n",
            "        [31, 33],\n",
            "        [32,  2],\n",
            "        [32,  8],\n",
            "        [32, 14],\n",
            "        [32, 15],\n",
            "        [32, 18],\n",
            "        [32, 20],\n",
            "        [32, 22],\n",
            "        [32, 23],\n",
            "        [32, 29],\n",
            "        [32, 30],\n",
            "        [32, 31],\n",
            "        [32, 33],\n",
            "        [33,  8],\n",
            "        [33,  9],\n",
            "        [33, 13],\n",
            "        [33, 14],\n",
            "        [33, 15],\n",
            "        [33, 18],\n",
            "        [33, 19],\n",
            "        [33, 20],\n",
            "        [33, 22],\n",
            "        [33, 23],\n",
            "        [33, 26],\n",
            "        [33, 27],\n",
            "        [33, 28],\n",
            "        [33, 29],\n",
            "        [33, 30],\n",
            "        [33, 31],\n",
            "        [33, 32]])\n"
          ]
        }
      ],
      "source": [
        "from IPython.display import Javascript  # Restrict height of output cell.\n",
        "display(Javascript('''google.colab.output.setIframeHeight(0, true, {maxHeight: 300})'''))\n",
        "\n",
        "edge_index = data.edge_index\n",
        "print(edge_index.t())"
      ]
    },
    {
      "cell_type": "markdown",
      "metadata": {
        "id": "wQJyi9OB8dh_"
      },
      "source": [
        "By printing `edge_index`, we can further understand how PyG represents graph connectivity internally.\n",
        "We can see that for each edge, `edge_index` holds a tuple of two node indices, where the first value describes the node index of the source node and the second value describes the node index of the destination node of an edge.\n",
        "\n",
        "This representation is known as the **COO format (coordinate format)** commonly used for representing sparse matrices.\n",
        "Instead of holding the adjacency information in a dense representation $\\mathbf{A} \\in \\{ 0, 1 \\}^{|\\mathcal{V}| \\times |\\mathcal{V}|}$, PyG represents graphs sparsely, which refers to only holding the coordinates/values for which entries in $\\mathbf{A}$ are non-zero.\n",
        "\n",
        "We can further visualize the graph by converting it to the `networkx` library format, which implements, in addition to graph manipulation functionalities, powerful tools for visualization:"
      ]
    },
    {
      "cell_type": "code",
      "execution_count": 18,
      "metadata": {
        "colab": {
          "base_uri": "https://localhost:8080/",
          "height": 411
        },
        "id": "3KfJHtlV8h3W",
        "outputId": "06dbaeff-7931-4a3e-c54b-a80450623759"
      },
      "outputs": [
        {
          "data": {
            "image/png": "[encoded data removed]",
            "text/plain": [
              "<Figure size 700x700 with 1 Axes>"
            ]
          },
          "metadata": {},
          "output_type": "display_data"
        }
      ],
      "source": [
        "from torch_geometric.utils import to_networkx\n",
        "\n",
        "G = to_networkx(data, to_undirected=True)\n",
        "visualize(G, color=data.y)"
      ]
    },
    {
      "cell_type": "markdown",
      "metadata": {
        "id": "NUdHZY2u8vn3"
      },
      "source": [
        "## Implementing Graph Neural Networks (GNNs)\n",
        "\n",
        "After learning about PyG's data handling, it's time to implement our first Graph Neural Network!\n",
        "\n",
        "For this, we will use one of the most simple GNN operators, the **GCN layer** ([Kipf et al. (2017)](https://arxiv.org/abs/1609.02907)).\n",
        "\n",
        "PyG implements this layer via [`GCNConv`](https://pytorch-geometric.readthedocs.io/en/latest/modules/nn.html#torch_geometric.nn.conv.GCNConv), which can be executed by passing in the node feature representation `x` and the COO graph connectivity representation `edge_index`.\n",
        "\n",
        "### What is the output of a GNN?\n",
        "\n",
        "The goal of a GNN is to take an input graph $G = (\\mathcal{V}, \\mathcal{E})$ where each node $v_i \\in \\mathcal{V}$ has an input feature vector $X_i^{(0)}$. What we want to learn is a function $f \\to \\mathcal{V} \\times \\mathcal{R}^d$, a function that takes in a node and its feature vector, as well as the graph structure, and outputs an _embedding_, a vector that represents that node in a way that's useful to our downstream task. Once we've mapped nodes and their initial features to their learned embeddings, we can use those embeddings to do a variety of different tasks including node-level, edge-level, or graph-level regression/classification.\n",
        "\n",
        "In this colab, we want to learn embeddings that will be useful to classify each node into its community.\n",
        "\n",
        "With this, we are ready to create our first Graph Neural Network by defining our network architecture in a `torch.nn.Module` class:"
      ]
    },
    {
      "cell_type": "code",
      "execution_count": 24,
      "metadata": {
        "colab": {
          "base_uri": "https://localhost:8080/"
        },
        "id": "6tQGQF8r8zIr",
        "outputId": "108e2805-e213-4773-8528-99f7c0d4f019"
      },
      "outputs": [
        {
          "ename": "NameError",
          "evalue": "name 'input_dim' is not defined",
          "output_type": "error",
          "traceback": [
            "\u001b[31m---------------------------------------------------------------------------\u001b[39m",
            "\u001b[31mNameError\u001b[39m                                 Traceback (most recent call last)",
            "\u001b[36mCell\u001b[39m\u001b[36m \u001b[39m\u001b[32mIn[24]\u001b[39m\u001b[32m, line 36\u001b[39m\n\u001b[32m     32\u001b[39m         out = \u001b[38;5;28mself\u001b[39m.classifier(embeddings)\n\u001b[32m     34\u001b[39m         \u001b[38;5;28;01mreturn\u001b[39;00m out, embeddings\n\u001b[32m---> \u001b[39m\u001b[32m36\u001b[39m model = \u001b[43mGCN\u001b[49m\u001b[43m(\u001b[49m\u001b[43m)\u001b[49m\n\u001b[32m     37\u001b[39m \u001b[38;5;28mprint\u001b[39m(model)\n",
            "\u001b[36mCell\u001b[39m\u001b[36m \u001b[39m\u001b[32mIn[24]\u001b[39m\u001b[32m, line 13\u001b[39m, in \u001b[36mGCN.__init__\u001b[39m\u001b[34m(self)\u001b[39m\n\u001b[32m      9\u001b[39m \u001b[38;5;28mself\u001b[39m.classifier = Linear(\u001b[32m2\u001b[39m, dataset.num_classes)\n\u001b[32m     11\u001b[39m \u001b[38;5;28mself\u001b[39m.convs = torch.nn.ModuleList()\n\u001b[32m---> \u001b[39m\u001b[32m13\u001b[39m \u001b[38;5;28mself\u001b[39m.convs.append(GCNConv(\u001b[43minput_dim\u001b[49m, hidden_dim))\n\u001b[32m     14\u001b[39m \u001b[38;5;28;01mfor\u001b[39;00m l \u001b[38;5;129;01min\u001b[39;00m \u001b[38;5;28mrange\u001b[39m(num_layers-\u001b[32m1\u001b[39m):\n\u001b[32m     15\u001b[39m   \u001b[38;5;28mself\u001b[39m.convs.append(GCNConv(hidden_dim, hidden_dim))\n",
            "\u001b[31mNameError\u001b[39m: name 'input_dim' is not defined"
          ]
        }
      ],
      "source": [
        "import torch\n",
        "from torch.nn import Linear\n",
        "from torch_geometric.nn import GCNConv\n",
        "\n",
        "class GCN(torch.nn.Module):\n",
        "    def __init__(self):\n",
        "        super(GCN, self).__init__()\n",
        "        torch.manual_seed(12345)\n",
        "        self.classifier = Linear(2, dataset.num_classes)\n",
        "\n",
        "        self.convs = torch.nn.ModuleList()\n",
        "\n",
        "        self.convs.append(GCNConv(input_dim, hidden_dim))\n",
        "        for l in range(num_layers-1):\n",
        "          self.convs.append(GCNConv(hidden_dim, hidden_dim))\n",
        "\n",
        "        self.relu = torch.nn.ReLU()\n",
        "\n",
        "    def forward(self, x, edge_index):\n",
        "\n",
        "        for l in range(num_layers):\n",
        "          x = self.convs[l](x, edge_index)\n",
        "          x = x.tanh()\n",
        "\n",
        "        #h = self.relu(h)\n",
        "        h = torch.nn.functional.relu(h)\n",
        "        h = torch.nn.functional.dropout(h, dropout=0.5, training=self.training)\n",
        "        h = self.conv3(h, edge_index)\n",
        "        embeddings = h.tanh()  # Final GNN embedding space.\n",
        "\n",
        "        # Apply a final (linear) classifier.\n",
        "        out = self.classifier(embeddings)\n",
        "\n",
        "        return out, embeddings\n",
        "\n",
        "model = GCN()\n",
        "print(model)"
      ]
    },
    {
      "cell_type": "markdown",
      "metadata": {
        "id": "5zgbaD5P8_M_"
      },
      "source": [
        "Here, we first initialize all of our building blocks in `__init__` and define the computation flow of our network in `forward`.\n",
        "We first define and stack **three graph convolution layers**. Each layer corresponds to aggregating information from each node's 1-hop neighborhood (its direct neighbors), but when we compose the layers together, we are able to aggregate information from each node's 3-hop neighborhood (all nodes up to 3 \"hops\" away).\n",
        "\n",
        "In addition, the `GCNConv` layers reduce the node feature dimensionality to $2$, *i.e.*, $34 \\rightarrow 4 \\rightarrow 4 \\rightarrow 2$. Each `GCNConv` layer is enhanced by a [tanh](https://pytorch.org/docs/stable/generated/torch.nn.Tanh.html?highlight=tanh#torch.nn.Tanh) non-linearity.\n",
        "\n",
        "After that, we apply a single linear transformation ([`torch.nn.Linear`](https://pytorch.org/docs/stable/generated/torch.nn.Linear.html?highlight=linear#torch.nn.Linear)) that acts as a classifier to map our nodes to 1 out of the 4 classes/communities.\n",
        "\n",
        "We return both the output of the final classifier as well as the final node embeddings produced by our GNN.\n",
        "We proceed to initialize our final model via `GCN()`, and printing our model produces a summary of all its used sub-modules."
      ]
    },
    {
      "cell_type": "code",
      "execution_count": 25,
      "metadata": {
        "colab": {
          "base_uri": "https://localhost:8080/",
          "height": 433
        },
        "id": "48uhs_0j9AMX",
        "outputId": "491f048e-d3d4-48d9-ce6d-3dfe6e110189"
      },
      "outputs": [
        {
          "ename": "NameError",
          "evalue": "name 'input_dim' is not defined",
          "output_type": "error",
          "traceback": [
            "\u001b[31m---------------------------------------------------------------------------\u001b[39m",
            "\u001b[31mNameError\u001b[39m                                 Traceback (most recent call last)",
            "\u001b[36mCell\u001b[39m\u001b[36m \u001b[39m\u001b[32mIn[25]\u001b[39m\u001b[32m, line 1\u001b[39m\n\u001b[32m----> \u001b[39m\u001b[32m1\u001b[39m model = \u001b[43mGCN\u001b[49m\u001b[43m(\u001b[49m\u001b[43m)\u001b[49m\n\u001b[32m      3\u001b[39m _, h = model(data.x, data.edge_index)\n\u001b[32m      4\u001b[39m \u001b[38;5;28mprint\u001b[39m(\u001b[33mf\u001b[39m\u001b[33m'\u001b[39m\u001b[33mEmbedding shape: \u001b[39m\u001b[38;5;132;01m{\u001b[39;00m\u001b[38;5;28mlist\u001b[39m(h.shape)\u001b[38;5;132;01m}\u001b[39;00m\u001b[33m'\u001b[39m)\n",
            "\u001b[36mCell\u001b[39m\u001b[36m \u001b[39m\u001b[32mIn[24]\u001b[39m\u001b[32m, line 13\u001b[39m, in \u001b[36mGCN.__init__\u001b[39m\u001b[34m(self)\u001b[39m\n\u001b[32m      9\u001b[39m \u001b[38;5;28mself\u001b[39m.classifier = Linear(\u001b[32m2\u001b[39m, dataset.num_classes)\n\u001b[32m     11\u001b[39m \u001b[38;5;28mself\u001b[39m.convs = torch.nn.ModuleList()\n\u001b[32m---> \u001b[39m\u001b[32m13\u001b[39m \u001b[38;5;28mself\u001b[39m.convs.append(GCNConv(\u001b[43minput_dim\u001b[49m, hidden_dim))\n\u001b[32m     14\u001b[39m \u001b[38;5;28;01mfor\u001b[39;00m l \u001b[38;5;129;01min\u001b[39;00m \u001b[38;5;28mrange\u001b[39m(num_layers-\u001b[32m1\u001b[39m):\n\u001b[32m     15\u001b[39m   \u001b[38;5;28mself\u001b[39m.convs.append(GCNConv(hidden_dim, hidden_dim))\n",
            "\u001b[31mNameError\u001b[39m: name 'input_dim' is not defined"
          ]
        }
      ],
      "source": [
        "model = GCN()\n",
        "\n",
        "_, h = model(data.x, data.edge_index)\n",
        "print(f'Embedding shape: {list(h.shape)}')\n",
        "\n",
        "visualize(h, color=data.y)"
      ]
    },
    {
      "cell_type": "markdown",
      "metadata": {
        "id": "nDtJ9Zjw9I_Y"
      },
      "source": [
        "Remarkably, even before training the weights of our model, the model produces an embedding of nodes that closely resembles the community-structure of the graph.\n",
        "Nodes of the same color (community) are already closely clustered together in the embedding space, although the weights of our model are initialized **completely at random** and we have not yet performed any training so far!\n",
        "This leads to the conclusion that GNNs introduce a strong inductive bias, leading to similar embeddings for nodes that are close to each other in the input graph.\n",
        "\n",
        "### Training on the Karate Club Network\n",
        "\n",
        "But can we do better? Let's look at an example on how to train our network parameters based on the knowledge of the community assignments of 4 nodes in the graph (one for each community):\n",
        "\n",
        "Since everything in our model is differentiable and parameterized, we can add some labels, train the model and observe how the embeddings react.\n",
        "Here, we make use of a semi-supervised or transductive learning procedure: We simply train against one node per class, but are allowed to make use of the complete input graph data.\n",
        "\n",
        "Training our model is very similar to any other PyTorch model.\n",
        "In addition to defining our network architecture, we define a loss critertion (here, [`CrossEntropyLoss`](https://pytorch.org/docs/stable/generated/torch.nn.CrossEntropyLoss.html)) and initialize a stochastic gradient optimizer (here, [`Adam`](https://pytorch.org/docs/stable/optim.html?highlight=adam#torch.optim.Adam)).\n",
        "After that, we perform multiple rounds of optimization, where each round consists of a forward and backward pass to compute the gradients of our model parameters w.r.t. to the loss derived from the forward pass.\n",
        "If you are not new to PyTorch, this scheme should appear familar to you.\n",
        "Otherwise, the PyTorch docs provide [a good introduction on how to train a neural network in PyTorch](https://pytorch.org/tutorials/beginner/blitz/cifar10_tutorial.html#define-a-loss-function-and-optimizer).\n",
        "\n",
        "Note that our semi-supervised learning scenario is achieved by the following line:\n",
        "```\n",
        "loss = criterion(out[data.train_mask], data.y[data.train_mask])\n",
        "```\n",
        "While we compute node embeddings for all of our nodes, we **only make use of the training nodes for computing the loss**.\n",
        "Here, this is implemented by filtering the output of the classifier `out` and ground-truth labels `data.y` to only contain the nodes in the `train_mask`.\n",
        "\n",
        "Let us now start training and see how our node embeddings evolve over time (best experienced by explicitely running the code):"
      ]
    },
    {
      "cell_type": "code",
      "execution_count": 26,
      "metadata": {
        "colab": {
          "base_uri": "https://localhost:8080/",
          "height": 430
        },
        "id": "FI3DETGi9ND6",
        "outputId": "f70160da-f686-4203-f4ac-65b3a0557597"
      },
      "outputs": [
        {
          "data": {
            "application/javascript": "google.colab.output.setIframeHeight(0, true, {maxHeight: 430})",
            "text/plain": [
              "<IPython.core.display.Javascript object>"
            ]
          },
          "metadata": {},
          "output_type": "display_data"
        },
        {
          "ename": "NameError",
          "evalue": "name 'input_dim' is not defined",
          "output_type": "error",
          "traceback": [
            "\u001b[31m---------------------------------------------------------------------------\u001b[39m",
            "\u001b[31mNameError\u001b[39m                                 Traceback (most recent call last)",
            "\u001b[36mCell\u001b[39m\u001b[36m \u001b[39m\u001b[32mIn[26]\u001b[39m\u001b[32m, line 5\u001b[39m\n\u001b[32m      2\u001b[39m \u001b[38;5;28;01mfrom\u001b[39;00m\u001b[38;5;250m \u001b[39m\u001b[34;01mIPython\u001b[39;00m\u001b[34;01m.\u001b[39;00m\u001b[34;01mdisplay\u001b[39;00m\u001b[38;5;250m \u001b[39m\u001b[38;5;28;01mimport\u001b[39;00m Javascript  \u001b[38;5;66;03m# Restrict height of output cell.\u001b[39;00m\n\u001b[32m      3\u001b[39m display(Javascript(\u001b[33m'''\u001b[39m\u001b[33mgoogle.colab.output.setIframeHeight(0, true, \u001b[39m\u001b[38;5;132;01m{maxHeight: 430}\u001b[39;00m\u001b[33m)\u001b[39m\u001b[33m'''\u001b[39m))\n\u001b[32m----> \u001b[39m\u001b[32m5\u001b[39m model = \u001b[43mGCN\u001b[49m\u001b[43m(\u001b[49m\u001b[43m)\u001b[49m\n\u001b[32m      6\u001b[39m criterion = torch.nn.CrossEntropyLoss()  \u001b[38;5;66;03m# Define loss criterion.\u001b[39;00m\n\u001b[32m      7\u001b[39m optimizer = torch.optim.Adam(model.parameters(), lr=\u001b[32m0.01\u001b[39m)  \u001b[38;5;66;03m# Define optimizer.\u001b[39;00m\n",
            "\u001b[36mCell\u001b[39m\u001b[36m \u001b[39m\u001b[32mIn[24]\u001b[39m\u001b[32m, line 13\u001b[39m, in \u001b[36mGCN.__init__\u001b[39m\u001b[34m(self)\u001b[39m\n\u001b[32m      9\u001b[39m \u001b[38;5;28mself\u001b[39m.classifier = Linear(\u001b[32m2\u001b[39m, dataset.num_classes)\n\u001b[32m     11\u001b[39m \u001b[38;5;28mself\u001b[39m.convs = torch.nn.ModuleList()\n\u001b[32m---> \u001b[39m\u001b[32m13\u001b[39m \u001b[38;5;28mself\u001b[39m.convs.append(GCNConv(\u001b[43minput_dim\u001b[49m, hidden_dim))\n\u001b[32m     14\u001b[39m \u001b[38;5;28;01mfor\u001b[39;00m l \u001b[38;5;129;01min\u001b[39;00m \u001b[38;5;28mrange\u001b[39m(num_layers-\u001b[32m1\u001b[39m):\n\u001b[32m     15\u001b[39m   \u001b[38;5;28mself\u001b[39m.convs.append(GCNConv(hidden_dim, hidden_dim))\n",
            "\u001b[31mNameError\u001b[39m: name 'input_dim' is not defined"
          ]
        }
      ],
      "source": [
        "import time\n",
        "from IPython.display import Javascript  # Restrict height of output cell.\n",
        "display(Javascript('''google.colab.output.setIframeHeight(0, true, {maxHeight: 430})'''))\n",
        "\n",
        "model = GCN()\n",
        "criterion = torch.nn.CrossEntropyLoss()  # Define loss criterion.\n",
        "optimizer = torch.optim.Adam(model.parameters(), lr=0.01)  # Define optimizer.\n",
        "\n",
        "def train(data):\n",
        "    optimizer.zero_grad()  # Clear gradients.\n",
        "    out, h = model(data.x, data.edge_index)  # Perform a single forward pass.\n",
        "    loss = criterion(out[data.train_mask], data.y[data.train_mask])  # Compute the loss solely based on the training nodes.\n",
        "    loss.backward()  # Derive gradients.\n",
        "    optimizer.step()  # Update parameters based on gradients.\n",
        "\n",
        "    accuracy = {}\n",
        "    # Calculate training accuracy on our four examples\n",
        "    predicted_classes = torch.argmax(out[data.train_mask], axis=1) # [0.6, 0.2, 0.7, 0.1] -> 2\n",
        "    target_classes = data.y[data.train_mask]\n",
        "    accuracy['train'] = torch.mean(\n",
        "        torch.where(predicted_classes == target_classes, 1, 0).float())\n",
        "\n",
        "    # Calculate validation accuracy on the whole graph\n",
        "    predicted_classes = torch.argmax(out, axis=1)\n",
        "    target_classes = data.y\n",
        "    accuracy['val'] = torch.mean(\n",
        "        torch.where(predicted_classes == target_classes, 1, 0).float())\n",
        "\n",
        "    return loss, h, accuracy\n",
        "\n",
        "for epoch in range(500):\n",
        "    loss, h, accuracy = train(data)\n",
        "    # Visualize the node embeddings every 10 epochs\n",
        "    if epoch % 10 == 0:\n",
        "        visualize(h, color=data.y, epoch=epoch, loss=loss, accuracy=accuracy)\n",
        "        time.sleep(0.3)"
      ]
    },
    {
      "cell_type": "markdown",
      "metadata": {
        "id": "F2B3X6tf9YpS"
      },
      "source": [
        "As one can see, our 3-layer GCN model manages to separate the communities pretty well and classify most of the nodes correctly.\n",
        "\n",
        "Furthermore, we did this all with a few lines of code, thanks to the PyTorch Geometric library which helped us out with data handling and GNN implementations.\n"
      ]
    },
    {
      "cell_type": "markdown",
      "metadata": {
        "id": "E9bELRjibIRO"
      },
      "source": [
        "## Documentation\n",
        "\n"
      ]
    },
    {
      "cell_type": "markdown",
      "metadata": {
        "id": "OmqyWVNObNcK"
      },
      "source": [
        "You can explore more PyG functions through its [documentation](https://pytorch-geometric.readthedocs.io/en/latest/)."
      ]
    }
  ],
  "metadata": {
    "colab": {
      "include_colab_link": true,
      "machine_shape": "hm",
      "provenance": []
    },
    "kernelspec": {
      "display_name": "GNN",
      "language": "python",
      "name": "python3"
    },
    "language_info": {
      "codemirror_mode": {
        "name": "ipython",
        "version": 3
      },
      "file_extension": ".py",
      "mimetype": "text/x-python",
      "name": "python",
      "nbconvert_exporter": "python",
      "pygments_lexer": "ipython3",
      "version": "3.11.0"
    }
  },
  "nbformat": 4,
  "nbformat_minor": 0
}
